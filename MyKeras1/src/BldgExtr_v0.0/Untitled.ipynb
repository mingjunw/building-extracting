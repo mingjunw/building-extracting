{
 "cells": [
  {
   "cell_type": "code",
   "execution_count": 1,
   "metadata": {
    "collapsed": true
   },
   "outputs": [],
   "source": [
    "import os\n",
    "import sys\n",
    "import time\n",
    "import argparse\n",
    "\n",
    "import numpy\n",
    "import math\n",
    "\n",
    "import theano\n",
    "import theano.tensor as T"
   ]
  },
  {
   "cell_type": "code",
   "execution_count": 4,
   "metadata": {
    "collapsed": false
   },
   "outputs": [],
   "source": [
    "from theano.tensor.signal import pool"
   ]
  },
  {
   "cell_type": "code",
   "execution_count": 5,
   "metadata": {
    "collapsed": true
   },
   "outputs": [],
   "source": [
    "from theano.tensor.nnet import conv\n",
    "from theano.tensor.signal import conv as sgnconv"
   ]
  },
  {
   "cell_type": "code",
   "execution_count": 6,
   "metadata": {
    "collapsed": true
   },
   "outputs": [],
   "source": [
    "import cPickle\n",
    "from PIL import Image"
   ]
  },
  {
   "cell_type": "code",
   "execution_count": 7,
   "metadata": {
    "collapsed": true
   },
   "outputs": [],
   "source": [
    "imgN = 1\n",
    "paraFile = 'parafile'\n",
    "Thr = 127/255. # threshold on distance"
   ]
  },
  {
   "cell_type": "code",
   "execution_count": 8,
   "metadata": {
    "collapsed": true
   },
   "outputs": [],
   "source": [
    "def fnParseArgs():\n",
    "\n",
    "    usage = \"usage: python %prog [options]\"\n",
    "    parser = argparse.ArgumentParser(usage)\n",
    "\n",
    "    parser.add_argument(\"-q\",\n",
    "                        action=\"store_false\",\n",
    "                        dest=\"verbose\",\n",
    "                        help=\"Quiet\",\n",
    "                        default=False)\n",
    "\n",
    "    parser.add_argument(\"-v\",\n",
    "                        action  = \"store_true\",\n",
    "                        dest    = \"verbose\",\n",
    "                        help    = \"Verbose\",\n",
    "                        default = True)\n",
    "\n",
    "    parser.add_argument(\"-f\",\n",
    "                        action  = \"store\",\n",
    "                        dest    = \"imageName\",\n",
    "                        help    = \"input image\",\n",
    "                        type    = str,\n",
    "                        required = True)\n",
    "\n",
    "    parser.add_argument(\"-o\",\n",
    "                        action  = \"store\",\n",
    "                        dest    = \"outputName\",\n",
    "                        help    = \"output file name\",\n",
    "                        type    = str,\n",
    "                        required = True)\n",
    "\n",
    "    args = parser.parse_args()\n",
    "\n",
    "    if args.verbose:\n",
    "        print ('User provided inputs:')\n",
    "        print ('> IMAGENAME\\t\\t: %s' % args.imageName)\n",
    "        print ('> OUTPUTNAME\\t\\t: %s' % args.outputName)\n",
    "\n",
    "    return args"
   ]
  },
  {
   "cell_type": "code",
   "execution_count": 9,
   "metadata": {
    "collapsed": true
   },
   "outputs": [],
   "source": [
    "def UpSampling2x(input, img_shp):\n",
    "    filter1 = theano.shared(numpy.asarray([.5, 1, .5], dtype=theano.config.floatX), borrow=True)\n",
    "    input1fs_0 = theano.shared(numpy.zeros((img_shp[0],img_shp[1],img_shp[2],img_shp[3]), dtype=theano.config.floatX),\n",
    "                               borrow=True)\n",
    "    input1fs_0 = T.set_subtensor(input1fs_0[:,:,0:img_shp[2]:2,0:img_shp[3]:2],input)\n",
    "\n",
    "    img_shp1N = (img_shp[0]*img_shp[1],img_shp[2],img_shp[3])\n",
    "    input1fs_v = sgnconv.conv2d(input1fs_0.reshape(img_shp1N),\n",
    "                           filter1.reshape((1,3)),\n",
    "                           border_mode='full',\n",
    "                           image_shape=img_shp1N,\n",
    "                           filter_shape=(1, 1, 3))[:,:,1:-1]\n",
    "    input1fs = sgnconv.conv2d(input1fs_v,\n",
    "                           filter1.reshape((3,1)),\n",
    "                           border_mode='full',\n",
    "                           image_shape=img_shp1N,\n",
    "                           filter_shape=(1, 3, 1))[:,1:-1,:].reshape((img_shp[0],img_shp[1],img_shp[2],img_shp[3]))\n",
    "    return input1fs\n"
   ]
  },
  {
   "cell_type": "code",
   "execution_count": 10,
   "metadata": {
    "collapsed": true
   },
   "outputs": [],
   "source": [
    "def UpSampling4x(input, img_shp):\n",
    "    filter2 = theano.shared(numpy.asarray([.25, .5, .75, 1, .75, .5, .25],\n",
    "                                          dtype=theano.config.floatX), borrow=True)\n",
    "    input2fs_0 = theano.shared(numpy.zeros((img_shp[0],img_shp[1],img_shp[2],img_shp[3]), dtype=theano.config.floatX),\n",
    "                               borrow=True)\n",
    "    input2fs_0 = T.set_subtensor(input2fs_0[:,:,2:img_shp[2]:4,2:img_shp[3]:4],input)\n",
    "\n",
    "    img_shp2N = (img_shp[0]*img_shp[1],img_shp[2],img_shp[3])\n",
    "    input2fs_v = sgnconv.conv2d(input2fs_0.reshape(img_shp2N),\n",
    "                           filter2.reshape((1,7)),\n",
    "                           border_mode='full',\n",
    "                           image_shape=img_shp2N,\n",
    "                           filter_shape=(1, 1, 7))[:,:,3:-3]\n",
    "    input2fs = sgnconv.conv2d(input2fs_v,\n",
    "                           filter2.reshape((7,1)),\n",
    "                           border_mode='full',\n",
    "                           image_shape=img_shp2N,\n",
    "                           filter_shape=(1, 7, 1))[:,3:-3,:].reshape((img_shp[0],img_shp[1],img_shp[2],img_shp[3]))\n",
    "    return input2fs"
   ]
  },
  {
   "cell_type": "code",
   "execution_count": 11,
   "metadata": {
    "collapsed": true
   },
   "outputs": [],
   "source": [
    "def UpSampling8x(input, img_shp):\n",
    "    filter3 = theano.shared(numpy.asarray([.125, .25, .375, .5, .625, .75, .875, 1,\n",
    "                                           .875, .75, .625, .5, .375, .25, .125],\n",
    "                                          dtype=theano.config.floatX), borrow=True)\n",
    "    input3fs_0 = theano.shared(numpy.zeros((img_shp[0],img_shp[1],img_shp[2],img_shp[3]), dtype=theano.config.floatX),\n",
    "                               borrow=True)\n",
    "    input3fs_0 = T.set_subtensor(input3fs_0[:,:,3:img_shp[2]:8,3:img_shp[3]:8],input)\n",
    "\n",
    "    img_shp3N = (img_shp[0]*img_shp[1],img_shp[2],img_shp[3])\n",
    "    input3fs_v = sgnconv.conv2d(input3fs_0.reshape(img_shp3N),\n",
    "                           filter3.reshape((1,15)),\n",
    "                           border_mode='full',\n",
    "                           image_shape=img_shp3N,\n",
    "                           filter_shape=(1, 1, 15))[:,:,7:-7]\n",
    "    input3fs = sgnconv.conv2d(input3fs_v,\n",
    "                           filter3.reshape((15,1)),\n",
    "                           border_mode='full',\n",
    "                           image_shape=img_shp3N,\n",
    "                           filter_shape=(1, 15, 1))[:,7:-7,:].reshape((img_shp[0],img_shp[1],img_shp[2],img_shp[3]))\n",
    "    return input3fs"
   ]
  },
  {
   "cell_type": "code",
   "execution_count": 12,
   "metadata": {
    "collapsed": true
   },
   "outputs": [],
   "source": [
    "def UpSampling16x(input, img_shp):\n",
    "    a = numpy.linspace(0,1,num=17)\n",
    "    b = numpy.linspace(1,0,num=17)\n",
    "    c = numpy.concatenate((a[1:],b[1:-1]))\n",
    "    filter4 = theano.shared(numpy.asarray(c, dtype=theano.config.floatX), borrow=True)\n",
    "    input4fs_0 = theano.shared(numpy.zeros((img_shp[0],img_shp[1],img_shp[2],img_shp[3]), dtype=theano.config.floatX),\n",
    "                               borrow=True)\n",
    "    input4fs_0 = T.set_subtensor(input4fs_0[:,:,9:(img_shp[2]-0):16,9:(img_shp[3]-0):16],input)\n",
    "\n",
    "    img_shp3N = (img_shp[0]*img_shp[1],img_shp[2],img_shp[3])\n",
    "    input4fs_v = sgnconv.conv2d(input4fs_0.reshape(img_shp3N),\n",
    "                           filter4.reshape((1,31)),\n",
    "                           border_mode='full',\n",
    "                           image_shape=img_shp3N,\n",
    "                           filter_shape=(1, 1, 31))[:,:,15:-15]\n",
    "    input4fs = sgnconv.conv2d(input4fs_v,\n",
    "                           filter4.reshape((31,1)),\n",
    "                           border_mode='full',\n",
    "                           image_shape=img_shp3N,\n",
    "                           filter_shape=(1, 31, 1))[:,15:-15,:].reshape((img_shp[0],img_shp[1],img_shp[2],img_shp[3]))\n",
    "    return input4fs"
   ]
  },
  {
   "cell_type": "code",
   "execution_count": 13,
   "metadata": {
    "collapsed": true
   },
   "outputs": [],
   "source": [
    "def relu(x):\n",
    "    return T.switch(x<0, 0, x)"
   ]
  },
  {
   "cell_type": "code",
   "execution_count": 14,
   "metadata": {
    "collapsed": true
   },
   "outputs": [],
   "source": [
    "class LeNetConvPoolLayer(object):\n",
    "\n",
    "    def __init__(self, rng, input, filter_shape, image_shape, poolsize=(2, 2)):\n",
    "\n",
    "        assert image_shape[1] == filter_shape[1]\n",
    "        self.input = input\n",
    "\n",
    "        W_bound = numpy.sqrt(1. / filter_shape[0])\n",
    "        self.W = theano.shared(\n",
    "            numpy.asarray(\n",
    "                rng.uniform(low=-W_bound, high=W_bound, size=filter_shape),\n",
    "                dtype=theano.config.floatX\n",
    "            ),\n",
    "            borrow=True\n",
    "        )\n",
    "\n",
    "        b_values = numpy.zeros((filter_shape[0],), dtype=theano.config.floatX)\n",
    "        self.b = theano.shared(value=b_values, borrow=True)\n",
    "\n",
    "        if filter_shape[2] == 1 and filter_shape[3] == 1:\n",
    "            conv_out = conv.conv2d(\n",
    "                input=input,\n",
    "                filters=self.W,\n",
    "                border_mode='full',\n",
    "                filter_shape=filter_shape,\n",
    "                image_shape=image_shape\n",
    "            )\n",
    "        else:\n",
    "            fh = (filter_shape[2]-1)/2\n",
    "            fw = (filter_shape[3]-1)/2\n",
    "\n",
    "            conv_out = conv.conv2d(\n",
    "                input=input,\n",
    "                filters=self.W,\n",
    "                border_mode='full',\n",
    "                filter_shape=filter_shape,\n",
    "                image_shape=image_shape\n",
    "            )[:,:,fh:-fh,fw:-fw]\n",
    "\n",
    "        pooled_out = downsample.max_pool_2d(\n",
    "            input=conv_out,\n",
    "            ds=poolsize,\n",
    "            ignore_border=True\n",
    "        )\n",
    "\n",
    "        self.output = relu(pooled_out + self.b.dimshuffle('x', 0, 'x', 'x'))\n",
    "\n",
    "        self.params = [self.W, self.b]"
   ]
  },
  {
   "cell_type": "code",
   "execution_count": 15,
   "metadata": {
    "collapsed": true
   },
   "outputs": [],
   "source": [
    "def evaluate_lenet(args, nkerns=[50, 70, 100, 150, 100, 70, 70], batch_size=1):\n",
    "\n",
    "    rng = numpy.random.RandomState(23455)\n",
    "\n",
    "    imgobj = Image.open(args.imageName)\n",
    "    cols, rows = imgobj.size\n",
    "    Width = numpy.int(math.floor(cols / 16.) * 16)\n",
    "    Height = numpy.int(math.floor(rows / 16.) * 16)\n",
    "    x1 = numpy.zeros((imgN,Width*Height*3),dtype='float32')\n",
    "    img = numpy.asarray(imgobj, dtype='float32')\n",
    "    imgtmp = img[0:Height,0:Width,0:3]/255.\n",
    "    x1[0,:] = imgtmp.reshape(Height*Width*3)\n",
    "\n",
    "    test_set_x = theano.tensor._shared(\n",
    "        numpy.asarray(x1,dtype=theano.config.floatX),borrow=True)\n",
    "\n",
    "    imgshp0 = (Height, Width)\n",
    "    imgshp1 = (imgshp0[0]/2, imgshp0[1]/2)\n",
    "    imgshp2 = (imgshp1[0]/2, imgshp1[1]/2)\n",
    "    imgshp3 = (imgshp2[0]/2, imgshp2[1]/2)\n",
    "    imgshp4 = (imgshp3[0]/2, imgshp3[1]/2)\n",
    "    imgshp5 = (imgshp4[0]/2, imgshp4[1]/2)\n",
    "    imgshp6 = imgshp5\n",
    "\n",
    "    index = T.lscalar()\n",
    "    x = T.matrix('x')\n",
    "\n",
    "    print '... building the model'\n",
    "\n",
    "    layer0_input = x.reshape((batch_size, Height, Width, 3)).dimshuffle(0, 3, 1, 2)\n",
    "\n",
    "    layer0 = LeNetConvPoolLayer(\n",
    "        rng,\n",
    "        input=layer0_input,\n",
    "        image_shape=(batch_size, 3, imgshp0[0], imgshp0[1]),\n",
    "        filter_shape=(nkerns[0], 3, 5, 5),\n",
    "        poolsize=(2, 2)\n",
    "    )\n",
    "\n",
    "    layer1 = LeNetConvPoolLayer(\n",
    "        rng,\n",
    "        input=layer0.output,\n",
    "        image_shape=(batch_size, nkerns[0], imgshp1[0], imgshp1[1]),\n",
    "        filter_shape=(nkerns[1], nkerns[0], 5, 5),\n",
    "        poolsize=(2, 2)\n",
    "    )\n",
    "\n",
    "    layer2 = LeNetConvPoolLayer(\n",
    "        rng,\n",
    "        input=layer1.output,\n",
    "        image_shape=(batch_size, nkerns[1], imgshp2[0], imgshp2[1]),\n",
    "        filter_shape=(nkerns[2], nkerns[1], 3, 3),\n",
    "        poolsize=(2, 2)\n",
    "    )\n",
    "\n",
    "    layer3 = LeNetConvPoolLayer(\n",
    "        rng,\n",
    "        input=layer2.output,\n",
    "        image_shape=(batch_size, nkerns[2], imgshp3[0], imgshp3[1]),\n",
    "        filter_shape=(nkerns[3], nkerns[2], 3, 3),\n",
    "        poolsize=(2, 2)\n",
    "    )\n",
    "\n",
    "    layer4 = LeNetConvPoolLayer(\n",
    "        rng,\n",
    "        input=layer3.output,\n",
    "        image_shape=(batch_size, nkerns[3], imgshp4[0], imgshp4[1]),\n",
    "        filter_shape=(nkerns[4], nkerns[3], 3, 3),\n",
    "        poolsize=(2, 2)\n",
    "    )\n",
    "\n",
    "    layer5 = LeNetConvPoolLayer(\n",
    "        rng,\n",
    "        input=layer4.output,\n",
    "        image_shape=(batch_size, nkerns[4], imgshp5[0], imgshp5[1]),\n",
    "        filter_shape=(nkerns[5], nkerns[4], 3, 3),\n",
    "        poolsize=(1, 1)\n",
    "    )\n",
    "\n",
    "    layer6 = LeNetConvPoolLayer(\n",
    "        rng,\n",
    "        input=layer5.output,\n",
    "        image_shape=(batch_size, nkerns[5], imgshp6[0], imgshp6[1]),\n",
    "        filter_shape=(nkerns[6], nkerns[5], 3, 3),\n",
    "        poolsize=(1, 1)\n",
    "    )\n",
    "    layer1output_2x = UpSampling2x(layer1.output, (batch_size,nkerns[1],imgshp1[0], imgshp1[1]))\n",
    "    layer2output_4x = UpSampling4x(layer2.output, (batch_size,nkerns[2],imgshp1[0], imgshp1[1]))\n",
    "    layer3output_8x = UpSampling8x(layer3.output, (batch_size,nkerns[3],imgshp1[0], imgshp1[1]))\n",
    "    layer6output_16x = UpSampling16x(layer6.output, (batch_size,nkerns[6],imgshp1[0], imgshp1[1]))\n",
    "\n",
    "\n",
    "    output_all = T.concatenate([layer0.output,\n",
    "                                layer1output_2x,\n",
    "                                layer2output_4x,\n",
    "                                layer3output_8x,\n",
    "                                layer6output_16x], axis=1)\n",
    "\n",
    "    layer_fn = LeNetConvPoolLayer(\n",
    "        rng,\n",
    "        input=output_all,\n",
    "        image_shape=(batch_size, nkerns[0]+nkerns[1]+nkerns[2]+nkerns[3]+nkerns[6], imgshp1[0], imgshp1[1]),\n",
    "        filter_shape=(128, nkerns[0]+nkerns[1]+nkerns[2]+nkerns[3]+nkerns[6], 1, 1),\n",
    "        poolsize=(1, 1)\n",
    "    )\n",
    "\n",
    "    softmax_input1 = layer_fn.output.dimshuffle(0, 2, 3, 1)\n",
    "    p_y_given_x1 = T.nnet.softmax(softmax_input1.reshape((batch_size*imgshp1[0]*imgshp1[1], 128)))\n",
    "    p1 = p_y_given_x1 * T.arange(128).astype('float32')\n",
    "    net_output = T.sum(p1,axis=1).reshape((batch_size,1,imgshp1[0],imgshp1[1]))/127.\n",
    "\n",
    "    net_output_2x = UpSampling2x(net_output.reshape((batch_size,1,imgshp1[0],imgshp1[1])),\n",
    "                                 (batch_size,1,imgshp0[0],imgshp0[1]))\n",
    "\n",
    "    test_model = theano.function(\n",
    "        [index],\n",
    "        [net_output_2x],\n",
    "        givens={\n",
    "            x: test_set_x[index * batch_size: (index + 1) * batch_size]\n",
    "        }\n",
    "    )\n",
    "\n",
    "    save_file = open(paraFile, 'rb')\n",
    "    layer0.params[0].set_value(cPickle.load(save_file), borrow=True)\n",
    "    layer0.params[1].set_value(cPickle.load(save_file), borrow=True)\n",
    "    layer1.params[0].set_value(cPickle.load(save_file), borrow=True)\n",
    "    layer1.params[1].set_value(cPickle.load(save_file), borrow=True)\n",
    "    layer2.params[0].set_value(cPickle.load(save_file), borrow=True)\n",
    "    layer2.params[1].set_value(cPickle.load(save_file), borrow=True)\n",
    "    layer3.params[0].set_value(cPickle.load(save_file), borrow=True)\n",
    "    layer3.params[1].set_value(cPickle.load(save_file), borrow=True)\n",
    "    layer4.params[0].set_value(cPickle.load(save_file), borrow=True)\n",
    "    layer4.params[1].set_value(cPickle.load(save_file), borrow=True)\n",
    "    layer5.params[0].set_value(cPickle.load(save_file), borrow=True)\n",
    "    layer5.params[1].set_value(cPickle.load(save_file), borrow=True)\n",
    "    layer6.params[0].set_value(cPickle.load(save_file), borrow=True)\n",
    "    layer6.params[1].set_value(cPickle.load(save_file), borrow=True)\n",
    "    layer_fn.params[0].set_value(cPickle.load(save_file), borrow=True)\n",
    "    layer_fn.params[1].set_value(cPickle.load(save_file), borrow=True)\n",
    "    save_file.close()\n",
    "\n",
    "    print 'perform testing'\n",
    "\n",
    "    start_time = time.clock()\n",
    "\n",
    "    tmpImg = test_model(0)[0]\n",
    "    tmpImg = tmpImg.reshape((Height,Width))\n",
    "\n",
    "    img = x1.reshape((Height,Width,3)) * 255\n",
    "\n",
    "    img[tmpImg >= 128/255.,0] = 255\n",
    "    img[(tmpImg > 127/255.) & (tmpImg < 129/255.),2] = 255\n",
    "    img[(tmpImg > 127/255.) & (tmpImg < 129/255.),1] = 0\n",
    "    img[(tmpImg > 127/255.) & (tmpImg < 129/255.),0] = 0\n",
    "\n",
    "    img0 = Image.fromarray(img.astype(numpy.uint8))\n",
    "    imgfn = args.outputName\n",
    "    img0.save(imgfn)\n",
    "    img0 = Image.fromarray((tmpImg * 255).astype(numpy.uint8))\n",
    "    imgfn = 'maskout.png'\n",
    "    img0.save(imgfn)\n",
    "\n",
    "    end_time = time.clock()\n",
    "    print\n",
    "    print >> sys.stderr, ('The code ran for %.2fm' % ((end_time - start_time) / 60.))"
   ]
  },
  {
   "cell_type": "code",
   "execution_count": 16,
   "metadata": {
    "collapsed": false
   },
   "outputs": [
    {
     "name": "stderr",
     "output_type": "stream",
     "text": [
      "usage: usage: python %prog [options] [-h] [-q] [-v] -f IMAGENAME -o OUTPUTNAME\n",
      "usage: python %prog [options]: error: argument -o is required\n"
     ]
    },
    {
     "ename": "SystemExit",
     "evalue": "2",
     "output_type": "error",
     "traceback": [
      "An exception has occurred, use %tb to see the full traceback.\n",
      "\u001b[0;31mSystemExit\u001b[0m\u001b[0;31m:\u001b[0m 2\n"
     ]
    },
    {
     "name": "stderr",
     "output_type": "stream",
     "text": [
      "d:\\Anaconda2\\lib\\site-packages\\IPython\\core\\interactiveshell.py:2889: UserWarning: To exit: use 'exit', 'quit', or Ctrl-D.\n",
      "  warn(\"To exit: use 'exit', 'quit', or Ctrl-D.\", stacklevel=1)\n"
     ]
    }
   ],
   "source": [
    "args = fnParseArgs()\n",
    "evaluate_lenet(args)"
   ]
  },
  {
   "cell_type": "code",
   "execution_count": 18,
   "metadata": {
    "collapsed": false
   },
   "outputs": [],
   "source": [
    "save_file = open(paraFile, 'rb')\n",
    "a1 = cPickle.load(save_file)"
   ]
  },
  {
   "cell_type": "code",
   "execution_count": 21,
   "metadata": {
    "collapsed": false
   },
   "outputs": [
    {
     "ename": "AttributeError",
     "evalue": "'numpy.ndarray' object has no attribute 'lenth'",
     "output_type": "error",
     "traceback": [
      "\u001b[0;31m---------------------------------------------------------------------------\u001b[0m",
      "\u001b[0;31mAttributeError\u001b[0m                            Traceback (most recent call last)",
      "\u001b[0;32m<ipython-input-21-a0d4c6a882a1>\u001b[0m in \u001b[0;36m<module>\u001b[0;34m()\u001b[0m\n\u001b[0;32m----> 1\u001b[0;31m \u001b[0ma1\u001b[0m\u001b[1;33m.\u001b[0m\u001b[0mlenth\u001b[0m\u001b[1;33m(\u001b[0m\u001b[1;33m)\u001b[0m\u001b[1;33m\u001b[0m\u001b[0m\n\u001b[0m",
      "\u001b[0;31mAttributeError\u001b[0m: 'numpy.ndarray' object has no attribute 'lenth'"
     ]
    }
   ],
   "source": []
  },
  {
   "cell_type": "code",
   "execution_count": null,
   "metadata": {
    "collapsed": true
   },
   "outputs": [],
   "source": [
    "params = [w,b]"
   ]
  }
 ],
 "metadata": {
  "kernelspec": {
   "display_name": "Python 2",
   "language": "python",
   "name": "python2"
  },
  "language_info": {
   "codemirror_mode": {
    "name": "ipython",
    "version": 2
   },
   "file_extension": ".py",
   "mimetype": "text/x-python",
   "name": "python",
   "nbconvert_exporter": "python",
   "pygments_lexer": "ipython2",
   "version": "2.7.13"
  }
 },
 "nbformat": 4,
 "nbformat_minor": 2
}
